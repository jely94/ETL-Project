{
 "cells": [
  {
   "cell_type": "code",
   "execution_count": 61,
   "metadata": {},
   "outputs": [],
   "source": [
    "import pandas as pd\n",
    "import numpy as np\n",
    "import os"
   ]
  },
  {
   "cell_type": "code",
   "execution_count": 17,
   "metadata": {},
   "outputs": [
    {
     "data": {
      "text/plain": [
       "'/Users/ireneh/Desktop/ETL-Project/name split'"
      ]
     },
     "execution_count": 17,
     "metadata": {},
     "output_type": "execute_result"
    }
   ],
   "source": [
    "pwd"
   ]
  },
  {
   "cell_type": "code",
   "execution_count": 86,
   "metadata": {},
   "outputs": [
    {
     "data": {
      "text/html": [
       "<div>\n",
       "<style scoped>\n",
       "    .dataframe tbody tr th:only-of-type {\n",
       "        vertical-align: middle;\n",
       "    }\n",
       "\n",
       "    .dataframe tbody tr th {\n",
       "        vertical-align: top;\n",
       "    }\n",
       "\n",
       "    .dataframe thead th {\n",
       "        text-align: right;\n",
       "    }\n",
       "</style>\n",
       "<table border=\"1\" class=\"dataframe\">\n",
       "  <thead>\n",
       "    <tr style=\"text-align: right;\">\n",
       "      <th></th>\n",
       "      <th>Name</th>\n",
       "      <th>GP</th>\n",
       "      <th>G</th>\n",
       "      <th>A</th>\n",
       "      <th>TP</th>\n",
       "      <th>PPG</th>\n",
       "      <th>PIM</th>\n",
       "      <th>Period</th>\n",
       "      <th>Years</th>\n",
       "      <th>POS</th>\n",
       "    </tr>\n",
       "  </thead>\n",
       "  <tbody>\n",
       "    <tr>\n",
       "      <th>0</th>\n",
       "      <td>Wayne Gretzky</td>\n",
       "      <td>1487.0</td>\n",
       "      <td>894.0</td>\n",
       "      <td>1963.0</td>\n",
       "      <td>2857.0</td>\n",
       "      <td>1.921</td>\n",
       "      <td>577.0</td>\n",
       "      <td>1979-1999</td>\n",
       "      <td>20.0</td>\n",
       "      <td>C</td>\n",
       "    </tr>\n",
       "    <tr>\n",
       "      <th>1</th>\n",
       "      <td>Jaromír Jágr</td>\n",
       "      <td>1733.0</td>\n",
       "      <td>766.0</td>\n",
       "      <td>1155.0</td>\n",
       "      <td>1921.0</td>\n",
       "      <td>1.1079999999999999</td>\n",
       "      <td>1167.0</td>\n",
       "      <td>1990-2018</td>\n",
       "      <td>24.0</td>\n",
       "      <td>RW</td>\n",
       "    </tr>\n",
       "    <tr>\n",
       "      <th>2</th>\n",
       "      <td>Mark Messier</td>\n",
       "      <td>1756.0</td>\n",
       "      <td>694.0</td>\n",
       "      <td>1193.0</td>\n",
       "      <td>1887.0</td>\n",
       "      <td>1.075</td>\n",
       "      <td>1910.0</td>\n",
       "      <td>1979-2004</td>\n",
       "      <td>25.0</td>\n",
       "      <td>C</td>\n",
       "    </tr>\n",
       "    <tr>\n",
       "      <th>3</th>\n",
       "      <td>Gordie Howe</td>\n",
       "      <td>1767.0</td>\n",
       "      <td>801.0</td>\n",
       "      <td>1049.0</td>\n",
       "      <td>1850.0</td>\n",
       "      <td>1.047</td>\n",
       "      <td>1685.0</td>\n",
       "      <td>1946-1980</td>\n",
       "      <td>26.0</td>\n",
       "      <td>RW</td>\n",
       "    </tr>\n",
       "    <tr>\n",
       "      <th>4</th>\n",
       "      <td>Ron Francis</td>\n",
       "      <td>1731.0</td>\n",
       "      <td>549.0</td>\n",
       "      <td>1249.0</td>\n",
       "      <td>1798.0</td>\n",
       "      <td>1.0390000000000001</td>\n",
       "      <td>979.0</td>\n",
       "      <td>1981-2004</td>\n",
       "      <td>23.0</td>\n",
       "      <td>C</td>\n",
       "    </tr>\n",
       "  </tbody>\n",
       "</table>\n",
       "</div>"
      ],
      "text/plain": [
       "             Name      GP      G       A      TP                 PPG     PIM  \\\n",
       "0  Wayne Gretzky   1487.0  894.0  1963.0  2857.0               1.921   577.0   \n",
       "1   Jaromír Jágr   1733.0  766.0  1155.0  1921.0  1.1079999999999999  1167.0   \n",
       "2   Mark Messier   1756.0  694.0  1193.0  1887.0               1.075  1910.0   \n",
       "3    Gordie Howe   1767.0  801.0  1049.0  1850.0               1.047  1685.0   \n",
       "4    Ron Francis   1731.0  549.0  1249.0  1798.0  1.0390000000000001   979.0   \n",
       "\n",
       "      Period  Years POS  \n",
       "0  1979-1999   20.0   C  \n",
       "1  1990-2018   24.0  RW  \n",
       "2  1979-2004   25.0   C  \n",
       "3  1946-1980   26.0  RW  \n",
       "4  1981-2004   23.0   C  "
      ]
     },
     "execution_count": 86,
     "metadata": {},
     "output_type": "execute_result"
    }
   ],
   "source": [
    "name = pd.read_csv (\"../Output/career_stats_adj.csv\")\n",
    "name.head()"
   ]
  },
  {
   "cell_type": "code",
   "execution_count": 101,
   "metadata": {
    "scrolled": true
   },
   "outputs": [
    {
     "data": {
      "text/plain": [
       "0    Wayne Gretzky \n",
       "1     Jaromír Jágr \n",
       "2     Mark Messier \n",
       "3      Gordie Howe \n",
       "4      Ron Francis \n",
       "Name: Name, dtype: object"
      ]
     },
     "execution_count": 101,
     "metadata": {},
     "output_type": "execute_result"
    }
   ],
   "source": [
    "split= df_name ['Name'] \n",
    "split.head()"
   ]
  },
  {
   "cell_type": "code",
   "execution_count": null,
   "metadata": {},
   "outputs": [],
   "source": [
    "data.dropna(inplace = True) "
   ]
  },
  {
   "cell_type": "code",
   "execution_count": 96,
   "metadata": {},
   "outputs": [],
   "source": [
    "new = name[\"Name\"].str.split(\" \", n = 1, expand = True) "
   ]
  },
  {
   "cell_type": "code",
   "execution_count": 97,
   "metadata": {},
   "outputs": [],
   "source": [
    "#split.dropna(inplace = True) "
   ]
  },
  {
   "cell_type": "code",
   "execution_count": 98,
   "metadata": {},
   "outputs": [],
   "source": [
    "#split['Name']= split['Name'].str.split(\"t\", n = 1, expand = True) "
   ]
  },
  {
   "cell_type": "code",
   "execution_count": null,
   "metadata": {},
   "outputs": [],
   "source": []
  }
 ],
 "metadata": {
  "kernelspec": {
   "display_name": "Python 3",
   "language": "python",
   "name": "python3"
  },
  "language_info": {
   "codemirror_mode": {
    "name": "ipython",
    "version": 3
   },
   "file_extension": ".py",
   "mimetype": "text/x-python",
   "name": "python",
   "nbconvert_exporter": "python",
   "pygments_lexer": "ipython3",
   "version": "3.8.3"
  }
 },
 "nbformat": 4,
 "nbformat_minor": 4
}
