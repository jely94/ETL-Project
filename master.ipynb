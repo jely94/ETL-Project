{
 "metadata": {
  "language_info": {
   "codemirror_mode": {
    "name": "ipython",
    "version": 3
   },
   "file_extension": ".py",
   "mimetype": "text/x-python",
   "name": "python",
   "nbconvert_exporter": "python",
   "pygments_lexer": "ipython3",
   "version": "3.8.3-final"
  },
  "orig_nbformat": 2,
  "kernelspec": {
   "name": "Python 3.8.3 64-bit ('base': conda)",
   "display_name": "Python 3.8.3 64-bit ('base': conda)",
   "metadata": {
    "interpreter": {
     "hash": "b3ba2566441a7c06988d0923437866b63cedc61552a5af99d1f4fb67d367b25f"
    }
   }
  }
 },
 "nbformat": 4,
 "nbformat_minor": 2,
 "cells": [
  {
   "cell_type": "code",
   "execution_count": 2,
   "metadata": {},
   "outputs": [],
   "source": [
    "import pandas as pd"
   ]
  },
  {
   "cell_type": "code",
   "execution_count": 3,
   "metadata": {},
   "outputs": [],
   "source": [
    "file_one = \"Resources/Master.csv\""
   ]
  },
  {
   "cell_type": "code",
   "execution_count": 4,
   "metadata": {},
   "outputs": [
    {
     "output_type": "execute_result",
     "data": {
      "text/plain": [
       "    playerID coachID hofID firstName    lastName nameNote         nameGiven  \\\n",
       "0  aaltoan01     NaN   NaN     Antti       Aalto      NaN             Antti   \n",
       "1  abbeybr01     NaN   NaN     Bruce       Abbey      NaN             Bruce   \n",
       "2  abbotge01     NaN   NaN    George      Abbott      NaN      George Henry   \n",
       "3  abbotre01     NaN   NaN       Reg      Abbott      NaN  Reginald Stewart   \n",
       "4  abdelju01     NaN   NaN    Justin  Abdelkader      NaN               NaN   \n",
       "\n",
       "   nameNick  height  weight  ... birthDay birthCountry  birthState  \\\n",
       "0       NaN    73.0   210.0  ...      4.0      Finland         NaN   \n",
       "1       NaN    73.0   185.0  ...     18.0       Canada          ON   \n",
       "2  Preacher    67.0   153.0  ...      3.0       Canada          ON   \n",
       "3       NaN    71.0   164.0  ...      4.0       Canada          MB   \n",
       "4       NaN    73.0   195.0  ...     25.0          USA          MI   \n",
       "\n",
       "      birthCity  deathYear  deathMon  deathDay  deathCountry deathState  \\\n",
       "0  Lappeenranta        NaN       NaN       NaN           NaN        NaN   \n",
       "1       Toronto        NaN       NaN       NaN           NaN        NaN   \n",
       "2      Synenham        NaN       NaN       NaN           NaN        NaN   \n",
       "3      Winnipeg        NaN       NaN       NaN           NaN        NaN   \n",
       "4      Muskegon        NaN       NaN       NaN           NaN        NaN   \n",
       "\n",
       "   deathCity  \n",
       "0        NaN  \n",
       "1        NaN  \n",
       "2        NaN  \n",
       "3        NaN  \n",
       "4        NaN  \n",
       "\n",
       "[5 rows x 31 columns]"
      ],
      "text/html": "<div>\n<style scoped>\n    .dataframe tbody tr th:only-of-type {\n        vertical-align: middle;\n    }\n\n    .dataframe tbody tr th {\n        vertical-align: top;\n    }\n\n    .dataframe thead th {\n        text-align: right;\n    }\n</style>\n<table border=\"1\" class=\"dataframe\">\n  <thead>\n    <tr style=\"text-align: right;\">\n      <th></th>\n      <th>playerID</th>\n      <th>coachID</th>\n      <th>hofID</th>\n      <th>firstName</th>\n      <th>lastName</th>\n      <th>nameNote</th>\n      <th>nameGiven</th>\n      <th>nameNick</th>\n      <th>height</th>\n      <th>weight</th>\n      <th>...</th>\n      <th>birthDay</th>\n      <th>birthCountry</th>\n      <th>birthState</th>\n      <th>birthCity</th>\n      <th>deathYear</th>\n      <th>deathMon</th>\n      <th>deathDay</th>\n      <th>deathCountry</th>\n      <th>deathState</th>\n      <th>deathCity</th>\n    </tr>\n  </thead>\n  <tbody>\n    <tr>\n      <th>0</th>\n      <td>aaltoan01</td>\n      <td>NaN</td>\n      <td>NaN</td>\n      <td>Antti</td>\n      <td>Aalto</td>\n      <td>NaN</td>\n      <td>Antti</td>\n      <td>NaN</td>\n      <td>73.0</td>\n      <td>210.0</td>\n      <td>...</td>\n      <td>4.0</td>\n      <td>Finland</td>\n      <td>NaN</td>\n      <td>Lappeenranta</td>\n      <td>NaN</td>\n      <td>NaN</td>\n      <td>NaN</td>\n      <td>NaN</td>\n      <td>NaN</td>\n      <td>NaN</td>\n    </tr>\n    <tr>\n      <th>1</th>\n      <td>abbeybr01</td>\n      <td>NaN</td>\n      <td>NaN</td>\n      <td>Bruce</td>\n      <td>Abbey</td>\n      <td>NaN</td>\n      <td>Bruce</td>\n      <td>NaN</td>\n      <td>73.0</td>\n      <td>185.0</td>\n      <td>...</td>\n      <td>18.0</td>\n      <td>Canada</td>\n      <td>ON</td>\n      <td>Toronto</td>\n      <td>NaN</td>\n      <td>NaN</td>\n      <td>NaN</td>\n      <td>NaN</td>\n      <td>NaN</td>\n      <td>NaN</td>\n    </tr>\n    <tr>\n      <th>2</th>\n      <td>abbotge01</td>\n      <td>NaN</td>\n      <td>NaN</td>\n      <td>George</td>\n      <td>Abbott</td>\n      <td>NaN</td>\n      <td>George Henry</td>\n      <td>Preacher</td>\n      <td>67.0</td>\n      <td>153.0</td>\n      <td>...</td>\n      <td>3.0</td>\n      <td>Canada</td>\n      <td>ON</td>\n      <td>Synenham</td>\n      <td>NaN</td>\n      <td>NaN</td>\n      <td>NaN</td>\n      <td>NaN</td>\n      <td>NaN</td>\n      <td>NaN</td>\n    </tr>\n    <tr>\n      <th>3</th>\n      <td>abbotre01</td>\n      <td>NaN</td>\n      <td>NaN</td>\n      <td>Reg</td>\n      <td>Abbott</td>\n      <td>NaN</td>\n      <td>Reginald Stewart</td>\n      <td>NaN</td>\n      <td>71.0</td>\n      <td>164.0</td>\n      <td>...</td>\n      <td>4.0</td>\n      <td>Canada</td>\n      <td>MB</td>\n      <td>Winnipeg</td>\n      <td>NaN</td>\n      <td>NaN</td>\n      <td>NaN</td>\n      <td>NaN</td>\n      <td>NaN</td>\n      <td>NaN</td>\n    </tr>\n    <tr>\n      <th>4</th>\n      <td>abdelju01</td>\n      <td>NaN</td>\n      <td>NaN</td>\n      <td>Justin</td>\n      <td>Abdelkader</td>\n      <td>NaN</td>\n      <td>NaN</td>\n      <td>NaN</td>\n      <td>73.0</td>\n      <td>195.0</td>\n      <td>...</td>\n      <td>25.0</td>\n      <td>USA</td>\n      <td>MI</td>\n      <td>Muskegon</td>\n      <td>NaN</td>\n      <td>NaN</td>\n      <td>NaN</td>\n      <td>NaN</td>\n      <td>NaN</td>\n      <td>NaN</td>\n    </tr>\n  </tbody>\n</table>\n<p>5 rows × 31 columns</p>\n</div>"
     },
     "metadata": {},
     "execution_count": 4
    }
   ],
   "source": [
    "# Read csv and put into pandas dataframe\n",
    "master_df = pd.read_csv(file_one, encoding=\"ISO-8859-1\")\n",
    "master_df.head()"
   ]
  },
  {
   "cell_type": "code",
   "execution_count": 10,
   "metadata": {},
   "outputs": [
    {
     "output_type": "execute_result",
     "data": {
      "text/plain": [
       "  firstName    lastName   playerID  firstNHL  lastNHL pos\n",
       "0     Antti       Aalto  aaltoan01    1997.0   2000.0   C\n",
       "1     Bruce       Abbey  abbeybr01       NaN      NaN   D\n",
       "2    George      Abbott  abbotge01    1943.0   1943.0   G\n",
       "3       Reg      Abbott  abbotre01    1952.0   1952.0   C\n",
       "4    Justin  Abdelkader  abdelju01    2007.0   2011.0   L"
      ],
      "text/html": "<div>\n<style scoped>\n    .dataframe tbody tr th:only-of-type {\n        vertical-align: middle;\n    }\n\n    .dataframe tbody tr th {\n        vertical-align: top;\n    }\n\n    .dataframe thead th {\n        text-align: right;\n    }\n</style>\n<table border=\"1\" class=\"dataframe\">\n  <thead>\n    <tr style=\"text-align: right;\">\n      <th></th>\n      <th>firstName</th>\n      <th>lastName</th>\n      <th>playerID</th>\n      <th>firstNHL</th>\n      <th>lastNHL</th>\n      <th>pos</th>\n    </tr>\n  </thead>\n  <tbody>\n    <tr>\n      <th>0</th>\n      <td>Antti</td>\n      <td>Aalto</td>\n      <td>aaltoan01</td>\n      <td>1997.0</td>\n      <td>2000.0</td>\n      <td>C</td>\n    </tr>\n    <tr>\n      <th>1</th>\n      <td>Bruce</td>\n      <td>Abbey</td>\n      <td>abbeybr01</td>\n      <td>NaN</td>\n      <td>NaN</td>\n      <td>D</td>\n    </tr>\n    <tr>\n      <th>2</th>\n      <td>George</td>\n      <td>Abbott</td>\n      <td>abbotge01</td>\n      <td>1943.0</td>\n      <td>1943.0</td>\n      <td>G</td>\n    </tr>\n    <tr>\n      <th>3</th>\n      <td>Reg</td>\n      <td>Abbott</td>\n      <td>abbotre01</td>\n      <td>1952.0</td>\n      <td>1952.0</td>\n      <td>C</td>\n    </tr>\n    <tr>\n      <th>4</th>\n      <td>Justin</td>\n      <td>Abdelkader</td>\n      <td>abdelju01</td>\n      <td>2007.0</td>\n      <td>2011.0</td>\n      <td>L</td>\n    </tr>\n  </tbody>\n</table>\n</div>"
     },
     "metadata": {},
     "execution_count": 10
    }
   ],
   "source": [
    "# Reduce columns\n",
    "master_adj_df = master_df[['firstName', 'lastName', 'playerID', 'firstNHL', 'lastNHL', 'pos']]\n",
    "master_adj_df.head()"
   ]
  },
  {
   "cell_type": "code",
   "execution_count": 6,
   "metadata": {},
   "outputs": [
    {
     "output_type": "execute_result",
     "data": {
      "text/plain": [
       "  firstName    lastName   playerID hofID  firstNHL  lastNHL pos  \\\n",
       "0     Antti       Aalto  aaltoan01   NaN    1997.0   2000.0   C   \n",
       "1     Bruce       Abbey  abbeybr01   NaN       NaN      NaN   D   \n",
       "2    George      Abbott  abbotge01   NaN    1943.0   1943.0   G   \n",
       "3       Reg      Abbott  abbotre01   NaN    1952.0   1952.0   C   \n",
       "4    Justin  Abdelkader  abdelju01   NaN    2007.0   2011.0   L   \n",
       "\n",
       "                Name  \n",
       "0        Antti Aalto  \n",
       "1        Bruce Abbey  \n",
       "2      George Abbott  \n",
       "3         Reg Abbott  \n",
       "4  Justin Abdelkader  "
      ],
      "text/html": "<div>\n<style scoped>\n    .dataframe tbody tr th:only-of-type {\n        vertical-align: middle;\n    }\n\n    .dataframe tbody tr th {\n        vertical-align: top;\n    }\n\n    .dataframe thead th {\n        text-align: right;\n    }\n</style>\n<table border=\"1\" class=\"dataframe\">\n  <thead>\n    <tr style=\"text-align: right;\">\n      <th></th>\n      <th>firstName</th>\n      <th>lastName</th>\n      <th>playerID</th>\n      <th>hofID</th>\n      <th>firstNHL</th>\n      <th>lastNHL</th>\n      <th>pos</th>\n      <th>Name</th>\n    </tr>\n  </thead>\n  <tbody>\n    <tr>\n      <th>0</th>\n      <td>Antti</td>\n      <td>Aalto</td>\n      <td>aaltoan01</td>\n      <td>NaN</td>\n      <td>1997.0</td>\n      <td>2000.0</td>\n      <td>C</td>\n      <td>Antti Aalto</td>\n    </tr>\n    <tr>\n      <th>1</th>\n      <td>Bruce</td>\n      <td>Abbey</td>\n      <td>abbeybr01</td>\n      <td>NaN</td>\n      <td>NaN</td>\n      <td>NaN</td>\n      <td>D</td>\n      <td>Bruce Abbey</td>\n    </tr>\n    <tr>\n      <th>2</th>\n      <td>George</td>\n      <td>Abbott</td>\n      <td>abbotge01</td>\n      <td>NaN</td>\n      <td>1943.0</td>\n      <td>1943.0</td>\n      <td>G</td>\n      <td>George Abbott</td>\n    </tr>\n    <tr>\n      <th>3</th>\n      <td>Reg</td>\n      <td>Abbott</td>\n      <td>abbotre01</td>\n      <td>NaN</td>\n      <td>1952.0</td>\n      <td>1952.0</td>\n      <td>C</td>\n      <td>Reg Abbott</td>\n    </tr>\n    <tr>\n      <th>4</th>\n      <td>Justin</td>\n      <td>Abdelkader</td>\n      <td>abdelju01</td>\n      <td>NaN</td>\n      <td>2007.0</td>\n      <td>2011.0</td>\n      <td>L</td>\n      <td>Justin Abdelkader</td>\n    </tr>\n  </tbody>\n</table>\n</div>"
     },
     "metadata": {},
     "execution_count": 6
    }
   ],
   "source": [
    "# Concatenated firstName and LastName columns into one Name column\n",
    "master_adj_df['Name'] = master_adj_df['firstName'].str.cat(master_adj_df['lastName'],sep=\" \")\n",
    "master_adj_df.head()"
   ]
  },
  {
   "cell_type": "code",
   "execution_count": 7,
   "metadata": {},
   "outputs": [
    {
     "output_type": "execute_result",
     "data": {
      "text/plain": [
       "                Name firstName    lastName   playerID hofID  firstNHL  \\\n",
       "0        Antti Aalto     Antti       Aalto  aaltoan01   NaN    1997.0   \n",
       "1        Bruce Abbey     Bruce       Abbey  abbeybr01   NaN       NaN   \n",
       "2      George Abbott    George      Abbott  abbotge01   NaN    1943.0   \n",
       "3         Reg Abbott       Reg      Abbott  abbotre01   NaN    1952.0   \n",
       "4  Justin Abdelkader    Justin  Abdelkader  abdelju01   NaN    2007.0   \n",
       "\n",
       "   lastNHL pos  \n",
       "0   2000.0   C  \n",
       "1      NaN   D  \n",
       "2   1943.0   G  \n",
       "3   1952.0   C  \n",
       "4   2011.0   L  "
      ],
      "text/html": "<div>\n<style scoped>\n    .dataframe tbody tr th:only-of-type {\n        vertical-align: middle;\n    }\n\n    .dataframe tbody tr th {\n        vertical-align: top;\n    }\n\n    .dataframe thead th {\n        text-align: right;\n    }\n</style>\n<table border=\"1\" class=\"dataframe\">\n  <thead>\n    <tr style=\"text-align: right;\">\n      <th></th>\n      <th>Name</th>\n      <th>firstName</th>\n      <th>lastName</th>\n      <th>playerID</th>\n      <th>hofID</th>\n      <th>firstNHL</th>\n      <th>lastNHL</th>\n      <th>pos</th>\n    </tr>\n  </thead>\n  <tbody>\n    <tr>\n      <th>0</th>\n      <td>Antti Aalto</td>\n      <td>Antti</td>\n      <td>Aalto</td>\n      <td>aaltoan01</td>\n      <td>NaN</td>\n      <td>1997.0</td>\n      <td>2000.0</td>\n      <td>C</td>\n    </tr>\n    <tr>\n      <th>1</th>\n      <td>Bruce Abbey</td>\n      <td>Bruce</td>\n      <td>Abbey</td>\n      <td>abbeybr01</td>\n      <td>NaN</td>\n      <td>NaN</td>\n      <td>NaN</td>\n      <td>D</td>\n    </tr>\n    <tr>\n      <th>2</th>\n      <td>George Abbott</td>\n      <td>George</td>\n      <td>Abbott</td>\n      <td>abbotge01</td>\n      <td>NaN</td>\n      <td>1943.0</td>\n      <td>1943.0</td>\n      <td>G</td>\n    </tr>\n    <tr>\n      <th>3</th>\n      <td>Reg Abbott</td>\n      <td>Reg</td>\n      <td>Abbott</td>\n      <td>abbotre01</td>\n      <td>NaN</td>\n      <td>1952.0</td>\n      <td>1952.0</td>\n      <td>C</td>\n    </tr>\n    <tr>\n      <th>4</th>\n      <td>Justin Abdelkader</td>\n      <td>Justin</td>\n      <td>Abdelkader</td>\n      <td>abdelju01</td>\n      <td>NaN</td>\n      <td>2007.0</td>\n      <td>2011.0</td>\n      <td>L</td>\n    </tr>\n  </tbody>\n</table>\n</div>"
     },
     "metadata": {},
     "execution_count": 7
    }
   ],
   "source": [
    "# Reordered columns and added hofID\n",
    "master_adj2_df = master_adj_df[['Name', 'firstName', 'lastName', 'playerID', 'hofID', 'firstNHL',                                'lastNHL', 'pos']]\n",
    "master_adj2_df.head()"
   ]
  },
  {
   "cell_type": "code",
   "execution_count": 9,
   "metadata": {},
   "outputs": [
    {
     "output_type": "execute_result",
     "data": {
      "text/plain": [
       "                Name firstName    lastName   playerID hofID  firstNHL  \\\n",
       "0        Antti Aalto     Antti       Aalto  aaltoan01   NaN    1997.0   \n",
       "1        Bruce Abbey     Bruce       Abbey  abbeybr01   NaN       NaN   \n",
       "2      George Abbott    George      Abbott  abbotge01   NaN    1943.0   \n",
       "3         Reg Abbott       Reg      Abbott  abbotre01   NaN    1952.0   \n",
       "4  Justin Abdelkader    Justin  Abdelkader  abdelju01   NaN    2007.0   \n",
       "\n",
       "   lastNHL pos  \n",
       "0   2000.0   C  \n",
       "1      NaN   D  \n",
       "2   1943.0   G  \n",
       "3   1952.0   C  \n",
       "4   2011.0   L  "
      ],
      "text/html": "<div>\n<style scoped>\n    .dataframe tbody tr th:only-of-type {\n        vertical-align: middle;\n    }\n\n    .dataframe tbody tr th {\n        vertical-align: top;\n    }\n\n    .dataframe thead th {\n        text-align: right;\n    }\n</style>\n<table border=\"1\" class=\"dataframe\">\n  <thead>\n    <tr style=\"text-align: right;\">\n      <th></th>\n      <th>Name</th>\n      <th>firstName</th>\n      <th>lastName</th>\n      <th>playerID</th>\n      <th>hofID</th>\n      <th>firstNHL</th>\n      <th>lastNHL</th>\n      <th>pos</th>\n    </tr>\n  </thead>\n  <tbody>\n    <tr>\n      <th>0</th>\n      <td>Antti Aalto</td>\n      <td>Antti</td>\n      <td>Aalto</td>\n      <td>aaltoan01</td>\n      <td>NaN</td>\n      <td>1997.0</td>\n      <td>2000.0</td>\n      <td>C</td>\n    </tr>\n    <tr>\n      <th>1</th>\n      <td>Bruce Abbey</td>\n      <td>Bruce</td>\n      <td>Abbey</td>\n      <td>abbeybr01</td>\n      <td>NaN</td>\n      <td>NaN</td>\n      <td>NaN</td>\n      <td>D</td>\n    </tr>\n    <tr>\n      <th>2</th>\n      <td>George Abbott</td>\n      <td>George</td>\n      <td>Abbott</td>\n      <td>abbotge01</td>\n      <td>NaN</td>\n      <td>1943.0</td>\n      <td>1943.0</td>\n      <td>G</td>\n    </tr>\n    <tr>\n      <th>3</th>\n      <td>Reg Abbott</td>\n      <td>Reg</td>\n      <td>Abbott</td>\n      <td>abbotre01</td>\n      <td>NaN</td>\n      <td>1952.0</td>\n      <td>1952.0</td>\n      <td>C</td>\n    </tr>\n    <tr>\n      <th>4</th>\n      <td>Justin Abdelkader</td>\n      <td>Justin</td>\n      <td>Abdelkader</td>\n      <td>abdelju01</td>\n      <td>NaN</td>\n      <td>2007.0</td>\n      <td>2011.0</td>\n      <td>L</td>\n    </tr>\n  </tbody>\n</table>\n</div>"
     },
     "metadata": {},
     "execution_count": 9
    }
   ],
   "source": []
  },
  {
   "cell_type": "code",
   "execution_count": 11,
   "metadata": {},
   "outputs": [
    {
     "output_type": "execute_result",
     "data": {
      "text/plain": [
       "                Name firstName    lastName   playerID hofID  firstNHL  \\\n",
       "0        Antti Aalto     Antti       Aalto  aaltoan01   NaN    1997.0   \n",
       "2      George Abbott    George      Abbott  abbotge01   NaN    1943.0   \n",
       "3         Reg Abbott       Reg      Abbott  abbotre01   NaN    1952.0   \n",
       "4  Justin Abdelkader    Justin  Abdelkader  abdelju01   NaN    2007.0   \n",
       "5      Clarence Abel  Clarence        Abel   abelcl01   NaN    1926.0   \n",
       "\n",
       "   lastNHL pos  \n",
       "0   2000.0   C  \n",
       "2   1943.0   G  \n",
       "3   1952.0   C  \n",
       "4   2011.0   L  \n",
       "5   1933.0   D  "
      ],
      "text/html": "<div>\n<style scoped>\n    .dataframe tbody tr th:only-of-type {\n        vertical-align: middle;\n    }\n\n    .dataframe tbody tr th {\n        vertical-align: top;\n    }\n\n    .dataframe thead th {\n        text-align: right;\n    }\n</style>\n<table border=\"1\" class=\"dataframe\">\n  <thead>\n    <tr style=\"text-align: right;\">\n      <th></th>\n      <th>Name</th>\n      <th>firstName</th>\n      <th>lastName</th>\n      <th>playerID</th>\n      <th>hofID</th>\n      <th>firstNHL</th>\n      <th>lastNHL</th>\n      <th>pos</th>\n    </tr>\n  </thead>\n  <tbody>\n    <tr>\n      <th>0</th>\n      <td>Antti Aalto</td>\n      <td>Antti</td>\n      <td>Aalto</td>\n      <td>aaltoan01</td>\n      <td>NaN</td>\n      <td>1997.0</td>\n      <td>2000.0</td>\n      <td>C</td>\n    </tr>\n    <tr>\n      <th>2</th>\n      <td>George Abbott</td>\n      <td>George</td>\n      <td>Abbott</td>\n      <td>abbotge01</td>\n      <td>NaN</td>\n      <td>1943.0</td>\n      <td>1943.0</td>\n      <td>G</td>\n    </tr>\n    <tr>\n      <th>3</th>\n      <td>Reg Abbott</td>\n      <td>Reg</td>\n      <td>Abbott</td>\n      <td>abbotre01</td>\n      <td>NaN</td>\n      <td>1952.0</td>\n      <td>1952.0</td>\n      <td>C</td>\n    </tr>\n    <tr>\n      <th>4</th>\n      <td>Justin Abdelkader</td>\n      <td>Justin</td>\n      <td>Abdelkader</td>\n      <td>abdelju01</td>\n      <td>NaN</td>\n      <td>2007.0</td>\n      <td>2011.0</td>\n      <td>L</td>\n    </tr>\n    <tr>\n      <th>5</th>\n      <td>Clarence Abel</td>\n      <td>Clarence</td>\n      <td>Abel</td>\n      <td>abelcl01</td>\n      <td>NaN</td>\n      <td>1926.0</td>\n      <td>1933.0</td>\n      <td>D</td>\n    </tr>\n  </tbody>\n</table>\n</div>"
     },
     "metadata": {},
     "execution_count": 11
    }
   ],
   "source": [
    "# Filtered out any player that did not have a firstNHL year\n",
    "master_adj2_df = master_adj2_df[master_adj2_df['firstNHL'] >= 100] \n",
    "master_adj2_df.head()"
   ]
  },
  {
   "cell_type": "code",
   "execution_count": 13,
   "metadata": {},
   "outputs": [
    {
     "output_type": "execute_result",
     "data": {
      "text/plain": [
       "                Name firstName    lastName   playerID hofID  firstNHL  \\\n",
       "0        Antti Aalto     Antti       Aalto  aaltoan01   NaN    1997.0   \n",
       "3         Reg Abbott       Reg      Abbott  abbotre01   NaN    1952.0   \n",
       "4  Justin Abdelkader    Justin  Abdelkader  abdelju01   NaN    2007.0   \n",
       "5      Clarence Abel  Clarence        Abel   abelcl01   NaN    1926.0   \n",
       "6         Gerry Abel     Gerry        Abel   abelge01   NaN    1966.0   \n",
       "\n",
       "   lastNHL pos  \n",
       "0   2000.0   C  \n",
       "3   1952.0   C  \n",
       "4   2011.0   L  \n",
       "5   1933.0   D  \n",
       "6   1966.0   L  "
      ],
      "text/html": "<div>\n<style scoped>\n    .dataframe tbody tr th:only-of-type {\n        vertical-align: middle;\n    }\n\n    .dataframe tbody tr th {\n        vertical-align: top;\n    }\n\n    .dataframe thead th {\n        text-align: right;\n    }\n</style>\n<table border=\"1\" class=\"dataframe\">\n  <thead>\n    <tr style=\"text-align: right;\">\n      <th></th>\n      <th>Name</th>\n      <th>firstName</th>\n      <th>lastName</th>\n      <th>playerID</th>\n      <th>hofID</th>\n      <th>firstNHL</th>\n      <th>lastNHL</th>\n      <th>pos</th>\n    </tr>\n  </thead>\n  <tbody>\n    <tr>\n      <th>0</th>\n      <td>Antti Aalto</td>\n      <td>Antti</td>\n      <td>Aalto</td>\n      <td>aaltoan01</td>\n      <td>NaN</td>\n      <td>1997.0</td>\n      <td>2000.0</td>\n      <td>C</td>\n    </tr>\n    <tr>\n      <th>3</th>\n      <td>Reg Abbott</td>\n      <td>Reg</td>\n      <td>Abbott</td>\n      <td>abbotre01</td>\n      <td>NaN</td>\n      <td>1952.0</td>\n      <td>1952.0</td>\n      <td>C</td>\n    </tr>\n    <tr>\n      <th>4</th>\n      <td>Justin Abdelkader</td>\n      <td>Justin</td>\n      <td>Abdelkader</td>\n      <td>abdelju01</td>\n      <td>NaN</td>\n      <td>2007.0</td>\n      <td>2011.0</td>\n      <td>L</td>\n    </tr>\n    <tr>\n      <th>5</th>\n      <td>Clarence Abel</td>\n      <td>Clarence</td>\n      <td>Abel</td>\n      <td>abelcl01</td>\n      <td>NaN</td>\n      <td>1926.0</td>\n      <td>1933.0</td>\n      <td>D</td>\n    </tr>\n    <tr>\n      <th>6</th>\n      <td>Gerry Abel</td>\n      <td>Gerry</td>\n      <td>Abel</td>\n      <td>abelge01</td>\n      <td>NaN</td>\n      <td>1966.0</td>\n      <td>1966.0</td>\n      <td>L</td>\n    </tr>\n  </tbody>\n</table>\n</div>"
     },
     "metadata": {},
     "execution_count": 13
    }
   ],
   "source": [
    "# Filtered out all goaltenders\n",
    "master_adj2_df = master_adj2_df[master_adj2_df['pos'] != 'G'] \n",
    "master_adj2_df.head()"
   ]
  },
  {
   "cell_type": "code",
   "execution_count": 14,
   "metadata": {},
   "outputs": [],
   "source": [
    "# Saved to csv\n",
    "master_adj2_df.to_csv(\"Output/master_adj.csv\", index=False, header=True, encoding='utf-8-sig')"
   ]
  },
  {
   "cell_type": "code",
   "execution_count": null,
   "metadata": {},
   "outputs": [],
   "source": []
  }
 ]
}