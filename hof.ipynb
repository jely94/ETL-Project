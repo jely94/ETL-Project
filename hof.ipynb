{
 "metadata": {
  "language_info": {
   "codemirror_mode": {
    "name": "ipython",
    "version": 3
   },
   "file_extension": ".py",
   "mimetype": "text/x-python",
   "name": "python",
   "nbconvert_exporter": "python",
   "pygments_lexer": "ipython3",
   "version": "3.8.3-final"
  },
  "orig_nbformat": 2,
  "kernelspec": {
   "name": "Python 3.8.3 64-bit ('base': conda)",
   "display_name": "Python 3.8.3 64-bit ('base': conda)",
   "metadata": {
    "interpreter": {
     "hash": "b3ba2566441a7c06988d0923437866b63cedc61552a5af99d1f4fb67d367b25f"
    }
   }
  }
 },
 "nbformat": 4,
 "nbformat_minor": 2,
 "cells": [
  {
   "cell_type": "code",
   "execution_count": 1,
   "metadata": {},
   "outputs": [],
   "source": [
    "import pandas as pd"
   ]
  },
  {
   "cell_type": "code",
   "execution_count": 2,
   "metadata": {},
   "outputs": [],
   "source": [
    "file_one = \"Resources/HOF.csv\""
   ]
  },
  {
   "cell_type": "code",
   "execution_count": 3,
   "metadata": {},
   "outputs": [
    {
     "output_type": "execute_result",
     "data": {
      "text/plain": [
       "   year       hofID              name category\n",
       "0  1945  bakerho01h       Hobey Baker   Player\n",
       "1  1945  gardich01h  Charlie Gardiner   Player\n",
       "2  1945  gerared01h      Eddie Gerard   Player\n",
       "3  1945  mcgeefr01h       Frank McGee   Player\n",
       "4  1945  morenho01h      Howie Morenz   Player"
      ],
      "text/html": "<div>\n<style scoped>\n    .dataframe tbody tr th:only-of-type {\n        vertical-align: middle;\n    }\n\n    .dataframe tbody tr th {\n        vertical-align: top;\n    }\n\n    .dataframe thead th {\n        text-align: right;\n    }\n</style>\n<table border=\"1\" class=\"dataframe\">\n  <thead>\n    <tr style=\"text-align: right;\">\n      <th></th>\n      <th>year</th>\n      <th>hofID</th>\n      <th>name</th>\n      <th>category</th>\n    </tr>\n  </thead>\n  <tbody>\n    <tr>\n      <th>0</th>\n      <td>1945</td>\n      <td>bakerho01h</td>\n      <td>Hobey Baker</td>\n      <td>Player</td>\n    </tr>\n    <tr>\n      <th>1</th>\n      <td>1945</td>\n      <td>gardich01h</td>\n      <td>Charlie Gardiner</td>\n      <td>Player</td>\n    </tr>\n    <tr>\n      <th>2</th>\n      <td>1945</td>\n      <td>gerared01h</td>\n      <td>Eddie Gerard</td>\n      <td>Player</td>\n    </tr>\n    <tr>\n      <th>3</th>\n      <td>1945</td>\n      <td>mcgeefr01h</td>\n      <td>Frank McGee</td>\n      <td>Player</td>\n    </tr>\n    <tr>\n      <th>4</th>\n      <td>1945</td>\n      <td>morenho01h</td>\n      <td>Howie Morenz</td>\n      <td>Player</td>\n    </tr>\n  </tbody>\n</table>\n</div>"
     },
     "metadata": {},
     "execution_count": 3
    }
   ],
   "source": [
    "hof_df = pd.read_csv(file_one, encoding=\"ISO-8859-1\")\n",
    "hof_df.head()"
   ]
  },
  {
   "cell_type": "code",
   "execution_count": null,
   "metadata": {},
   "outputs": [],
   "source": []
  },
  {
   "cell_type": "code",
   "execution_count": null,
   "metadata": {},
   "outputs": [],
   "source": []
  },
  {
   "cell_type": "code",
   "execution_count": null,
   "metadata": {},
   "outputs": [],
   "source": []
  },
  {
   "cell_type": "code",
   "execution_count": null,
   "metadata": {},
   "outputs": [],
   "source": []
  },
  {
   "cell_type": "code",
   "execution_count": null,
   "metadata": {},
   "outputs": [],
   "source": []
  },
  {
   "cell_type": "code",
   "execution_count": null,
   "metadata": {},
   "outputs": [],
   "source": []
  }
 ]
}