{
 "metadata": {
  "language_info": {
   "codemirror_mode": {
    "name": "ipython",
    "version": 3
   },
   "file_extension": ".py",
   "mimetype": "text/x-python",
   "name": "python",
   "nbconvert_exporter": "python",
   "pygments_lexer": "ipython3",
   "version": "3.8.3-final"
  },
  "orig_nbformat": 2,
  "kernelspec": {
   "name": "Python 3.8.3 64-bit ('base': conda)",
   "display_name": "Python 3.8.3 64-bit ('base': conda)",
   "metadata": {
    "interpreter": {
     "hash": "b3ba2566441a7c06988d0923437866b63cedc61552a5af99d1f4fb67d367b25f"
    }
   }
  }
 },
 "nbformat": 4,
 "nbformat_minor": 2,
 "cells": [
  {
   "cell_type": "code",
   "execution_count": 2,
   "metadata": {},
   "outputs": [],
   "source": [
    "import pandas as pd"
   ]
  },
  {
   "cell_type": "code",
   "execution_count": 3,
   "metadata": {},
   "outputs": [],
   "source": [
    "file_one = \"Resources/HOF.csv\""
   ]
  },
  {
   "cell_type": "code",
   "execution_count": 4,
   "metadata": {},
   "outputs": [
    {
     "output_type": "execute_result",
     "data": {
      "text/plain": [
       "   year       hofID              name   pos category\n",
       "0  1945  bakerho01h       Hobey Baker     F   Player\n",
       "1  1945  gardich01h  Charlie Gardiner     G   Player\n",
       "2  1945  gerared01h      Eddie Gerard  DLW   Player\n",
       "3  1945  mcgeefr01h       Frank McGee   CR   Player\n",
       "4  1945  morenho01h      Howie Morenz     C   Player"
      ],
      "text/html": "<div>\n<style scoped>\n    .dataframe tbody tr th:only-of-type {\n        vertical-align: middle;\n    }\n\n    .dataframe tbody tr th {\n        vertical-align: top;\n    }\n\n    .dataframe thead th {\n        text-align: right;\n    }\n</style>\n<table border=\"1\" class=\"dataframe\">\n  <thead>\n    <tr style=\"text-align: right;\">\n      <th></th>\n      <th>year</th>\n      <th>hofID</th>\n      <th>name</th>\n      <th>pos</th>\n      <th>category</th>\n    </tr>\n  </thead>\n  <tbody>\n    <tr>\n      <th>0</th>\n      <td>1945</td>\n      <td>bakerho01h</td>\n      <td>Hobey Baker</td>\n      <td>F</td>\n      <td>Player</td>\n    </tr>\n    <tr>\n      <th>1</th>\n      <td>1945</td>\n      <td>gardich01h</td>\n      <td>Charlie Gardiner</td>\n      <td>G</td>\n      <td>Player</td>\n    </tr>\n    <tr>\n      <th>2</th>\n      <td>1945</td>\n      <td>gerared01h</td>\n      <td>Eddie Gerard</td>\n      <td>DLW</td>\n      <td>Player</td>\n    </tr>\n    <tr>\n      <th>3</th>\n      <td>1945</td>\n      <td>mcgeefr01h</td>\n      <td>Frank McGee</td>\n      <td>CR</td>\n      <td>Player</td>\n    </tr>\n    <tr>\n      <th>4</th>\n      <td>1945</td>\n      <td>morenho01h</td>\n      <td>Howie Morenz</td>\n      <td>C</td>\n      <td>Player</td>\n    </tr>\n  </tbody>\n</table>\n</div>"
     },
     "metadata": {},
     "execution_count": 4
    }
   ],
   "source": [
    "hof_df = pd.read_csv(file_one, encoding=\"ISO-8859-1\")\n",
    "hof_df.head()"
   ]
  },
  {
   "cell_type": "code",
   "execution_count": 6,
   "metadata": {},
   "outputs": [
    {
     "output_type": "execute_result",
     "data": {
      "text/plain": [
       "   year       hofID              name   pos category\n",
       "0  1945  bakerho01h       Hobey Baker     F   Player\n",
       "1  1945  gardich01h  Charlie Gardiner     G   Player\n",
       "2  1945  gerared01h      Eddie Gerard  DLW   Player\n",
       "3  1945  mcgeefr01h       Frank McGee   CR   Player\n",
       "4  1945  morenho01h      Howie Morenz     C   Player"
      ],
      "text/html": "<div>\n<style scoped>\n    .dataframe tbody tr th:only-of-type {\n        vertical-align: middle;\n    }\n\n    .dataframe tbody tr th {\n        vertical-align: top;\n    }\n\n    .dataframe thead th {\n        text-align: right;\n    }\n</style>\n<table border=\"1\" class=\"dataframe\">\n  <thead>\n    <tr style=\"text-align: right;\">\n      <th></th>\n      <th>year</th>\n      <th>hofID</th>\n      <th>name</th>\n      <th>pos</th>\n      <th>category</th>\n    </tr>\n  </thead>\n  <tbody>\n    <tr>\n      <th>0</th>\n      <td>1945</td>\n      <td>bakerho01h</td>\n      <td>Hobey Baker</td>\n      <td>F</td>\n      <td>Player</td>\n    </tr>\n    <tr>\n      <th>1</th>\n      <td>1945</td>\n      <td>gardich01h</td>\n      <td>Charlie Gardiner</td>\n      <td>G</td>\n      <td>Player</td>\n    </tr>\n    <tr>\n      <th>2</th>\n      <td>1945</td>\n      <td>gerared01h</td>\n      <td>Eddie Gerard</td>\n      <td>DLW</td>\n      <td>Player</td>\n    </tr>\n    <tr>\n      <th>3</th>\n      <td>1945</td>\n      <td>mcgeefr01h</td>\n      <td>Frank McGee</td>\n      <td>CR</td>\n      <td>Player</td>\n    </tr>\n    <tr>\n      <th>4</th>\n      <td>1945</td>\n      <td>morenho01h</td>\n      <td>Howie Morenz</td>\n      <td>C</td>\n      <td>Player</td>\n    </tr>\n  </tbody>\n</table>\n</div>"
     },
     "metadata": {},
     "execution_count": 6
    }
   ],
   "source": [
    "hof_df = hof_df[hof_df['category'] == 'Player'] \n",
    "hof_df.head()"
   ]
  },
  {
   "cell_type": "code",
   "execution_count": 7,
   "metadata": {},
   "outputs": [
    {
     "output_type": "execute_result",
     "data": {
      "text/plain": [
       "   year       hofID            name    pos category\n",
       "0  1945  bakerho01h     Hobey Baker      F   Player\n",
       "2  1945  gerared01h    Eddie Gerard   DLW   Player\n",
       "3  1945  mcgeefr01h     Frank McGee    CR   Player\n",
       "4  1945  morenho01h    Howie Morenz      C   Player\n",
       "5  1945  phillto01h  Tommy Phillips  LWRW   Player"
      ],
      "text/html": "<div>\n<style scoped>\n    .dataframe tbody tr th:only-of-type {\n        vertical-align: middle;\n    }\n\n    .dataframe tbody tr th {\n        vertical-align: top;\n    }\n\n    .dataframe thead th {\n        text-align: right;\n    }\n</style>\n<table border=\"1\" class=\"dataframe\">\n  <thead>\n    <tr style=\"text-align: right;\">\n      <th></th>\n      <th>year</th>\n      <th>hofID</th>\n      <th>name</th>\n      <th>pos</th>\n      <th>category</th>\n    </tr>\n  </thead>\n  <tbody>\n    <tr>\n      <th>0</th>\n      <td>1945</td>\n      <td>bakerho01h</td>\n      <td>Hobey Baker</td>\n      <td>F</td>\n      <td>Player</td>\n    </tr>\n    <tr>\n      <th>2</th>\n      <td>1945</td>\n      <td>gerared01h</td>\n      <td>Eddie Gerard</td>\n      <td>DLW</td>\n      <td>Player</td>\n    </tr>\n    <tr>\n      <th>3</th>\n      <td>1945</td>\n      <td>mcgeefr01h</td>\n      <td>Frank McGee</td>\n      <td>CR</td>\n      <td>Player</td>\n    </tr>\n    <tr>\n      <th>4</th>\n      <td>1945</td>\n      <td>morenho01h</td>\n      <td>Howie Morenz</td>\n      <td>C</td>\n      <td>Player</td>\n    </tr>\n    <tr>\n      <th>5</th>\n      <td>1945</td>\n      <td>phillto01h</td>\n      <td>Tommy Phillips</td>\n      <td>LWRW</td>\n      <td>Player</td>\n    </tr>\n  </tbody>\n</table>\n</div>"
     },
     "metadata": {},
     "execution_count": 7
    }
   ],
   "source": [
    "hof_df = hof_df[hof_df['pos'] != 'G'] \n",
    "hof_df.head()"
   ]
  },
  {
   "cell_type": "code",
   "execution_count": 10,
   "metadata": {},
   "outputs": [
    {
     "output_type": "execute_result",
     "data": {
      "text/plain": [
       "<bound method DataFrame.count of      year       hofID            name    pos category\n",
       "0    1945  bakerho01h     Hobey Baker      F   Player\n",
       "2    1945  gerared01h    Eddie Gerard   DLW   Player\n",
       "3    1945  mcgeefr01h     Frank McGee    CR   Player\n",
       "4    1945  morenho01h    Howie Morenz      C   Player\n",
       "5    1945  phillto01h  Tommy Phillips  LWRW   Player\n",
       "..    ...         ...             ...    ...      ...\n",
       "359  2010  granaca01h   Cammi Granato      C   Player\n",
       "360  2010  jamesan01h    Angela James      C   Player\n",
       "363  2011  gilmodo01h    Doug Gilmour      C   Player\n",
       "364  2011   howema01h       Mark Howe      D   Player\n",
       "365  2011  nieuwjo01h  Joe Nieuwendyk      C   Player\n",
       "\n",
       "[224 rows x 5 columns]>"
      ]
     },
     "metadata": {},
     "execution_count": 10
    }
   ],
   "source": [
    "hof_df.count"
   ]
  },
  {
   "cell_type": "code",
   "execution_count": null,
   "metadata": {},
   "outputs": [],
   "source": []
  },
  {
   "cell_type": "code",
   "execution_count": null,
   "metadata": {},
   "outputs": [],
   "source": []
  },
  {
   "cell_type": "code",
   "execution_count": null,
   "metadata": {},
   "outputs": [],
   "source": []
  }
 ]
}