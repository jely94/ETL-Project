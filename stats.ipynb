{
 "metadata": {
  "language_info": {
   "codemirror_mode": {
    "name": "ipython",
    "version": 3
   },
   "file_extension": ".py",
   "mimetype": "text/x-python",
   "name": "python",
   "nbconvert_exporter": "python",
   "pygments_lexer": "ipython3",
   "version": "3.6.10-final"
  },
  "orig_nbformat": 2,
  "kernelspec": {
   "name": "python361064bitbcsconda9956bb7450484f49881ea0c9e482447b",
   "display_name": "Python 3.6.10 64-bit ('bcs': conda)"
  }
 },
 "nbformat": 4,
 "nbformat_minor": 2,
 "cells": [
  {
   "cell_type": "code",
   "execution_count": 2,
   "metadata": {},
   "outputs": [],
   "source": [
    "from splinter import Browser\n",
    "from bs4 import BeautifulSoup\n",
    "import time\n",
    "import pandas as pd\n",
    "import requests"
   ]
  },
  {
   "cell_type": "code",
   "execution_count": 4,
   "metadata": {},
   "outputs": [
    {
     "output_type": "stream",
     "name": "stdout",
     "text": [
      "page: 1 -------------\n",
      "page: 2 -------------\n",
      "page: 3 -------------\n",
      "page: 4 -------------\n",
      "page: 5 -------------\n",
      "page: 6 -------------\n",
      "page: 7 -------------\n",
      "page: 8 -------------\n",
      "page: 9 -------------\n",
      "page: 10 -------------\n",
      "page: 11 -------------\n",
      "page: 12 -------------\n",
      "page: 13 -------------\n",
      "page: 14 -------------\n",
      "page: 15 -------------\n",
      "page: 16 -------------\n",
      "page: 17 -------------\n",
      "page: 18 -------------\n",
      "page: 19 -------------\n",
      "page: 20 -------------\n",
      "page: 21 -------------\n",
      "page: 22 -------------\n",
      "page: 23 -------------\n",
      "page: 24 -------------\n",
      "page: 25 -------------\n",
      "page: 26 -------------\n",
      "page: 27 -------------\n",
      "page: 28 -------------\n",
      "page: 29 -------------\n",
      "page: 30 -------------\n",
      "page: 31 -------------\n",
      "page: 32 -------------\n",
      "page: 33 -------------\n",
      "page: 34 -------------\n",
      "page: 35 -------------\n",
      "page: 36 -------------\n",
      "page: 37 -------------\n",
      "page: 38 -------------\n",
      "page: 39 -------------\n",
      "page: 40 -------------\n",
      "page: 41 -------------\n",
      "page: 42 -------------\n",
      "page: 43 -------------\n",
      "page: 44 -------------\n",
      "page: 45 -------------\n",
      "page: 46 -------------\n",
      "page: 47 -------------\n",
      "page: 48 -------------\n",
      "page: 49 -------------\n",
      "page: 50 -------------\n",
      "page: 51 -------------\n",
      "page: 52 -------------\n",
      "page: 53 -------------\n",
      "page: 54 -------------\n",
      "page: 55 -------------\n",
      "page: 56 -------------\n",
      "page: 57 -------------\n",
      "page: 58 -------------\n",
      "page: 59 -------------\n",
      "page: 60 -------------\n",
      "page: 61 -------------\n",
      "page: 62 -------------\n",
      "page: 63 -------------\n",
      "page: 64 -------------\n",
      "page: 65 -------------\n",
      "page: 66 -------------\n",
      "page: 67 -------------\n",
      "page: 68 -------------\n",
      "page: 69 -------------\n",
      "page: 70 -------------\n",
      "page: 71 -------------\n",
      "page: 72 -------------\n",
      "page: 73 -------------\n",
      "Scrapping completed!\n"
     ]
    }
   ],
   "source": [
    "player_tables = []\n",
    "\n",
    "for x in range(1, 74):\n",
    "\n",
    "    # url = f'https://www.eliteprospects.com/league/nhl/stats/all-time?page={x}'\n",
    "    # browser.visit(url)\n",
    "    # time.sleep(3)\n",
    "    # html = browser.html\n",
    "    # soup = BeautifulSoup(html, 'html.parser')\n",
    "\n",
    "    # players = soup.find('table', class_='player-stats')\n",
    "\n",
    "    url = f'https://www.eliteprospects.com/league/nhl/stats/all-time?page={x}'\n",
    "    html = requests.get(url).text\n",
    "\n",
    "    soup = BeautifulSoup(html, 'html.parser')\n",
    "\n",
    "    players = soup.find('table', class_='player-stats')\n",
    "\n",
    "    player_tables.append(pd.read_html(str(players))[0])\n",
    "\n",
    "    \n",
    "    print('page:', x, '-------------')\n",
    "    \n",
    "\n",
    "    # browser.links.find_by_partial_text('Next').click()\n",
    "print(\"Scrapping completed!\")"
   ]
  },
  {
   "cell_type": "code",
   "execution_count": 5,
   "metadata": {},
   "outputs": [
    {
     "output_type": "execute_result",
     "data": {
      "text/plain": [
       "             Name    GP      G       A      TP    PPG     PIM     Period  \\\n",
       "0  Wayne Gretzky   1487  894.0  1963.0  2857.0  1.921   577.0  1979-1999   \n",
       "1   Jaromír Jágr   1733  766.0  1155.0  1921.0  1.108  1167.0  1990-2018   \n",
       "2   Mark Messier   1756  694.0  1193.0  1887.0  1.075  1910.0  1979-2004   \n",
       "3    Gordie Howe   1767  801.0  1049.0  1850.0  1.047  1685.0  1946-1980   \n",
       "4    Ron Francis   1731  549.0  1249.0  1798.0  1.039   979.0  1981-2004   \n",
       "\n",
       "   Years POS  \n",
       "0   20.0   C  \n",
       "1   24.0  RW  \n",
       "2   25.0   C  \n",
       "3   26.0  RW  \n",
       "4   23.0   C  "
      ],
      "text/html": "<div>\n<style scoped>\n    .dataframe tbody tr th:only-of-type {\n        vertical-align: middle;\n    }\n\n    .dataframe tbody tr th {\n        vertical-align: top;\n    }\n\n    .dataframe thead th {\n        text-align: right;\n    }\n</style>\n<table border=\"1\" class=\"dataframe\">\n  <thead>\n    <tr style=\"text-align: right;\">\n      <th></th>\n      <th>Name</th>\n      <th>GP</th>\n      <th>G</th>\n      <th>A</th>\n      <th>TP</th>\n      <th>PPG</th>\n      <th>PIM</th>\n      <th>Period</th>\n      <th>Years</th>\n      <th>POS</th>\n    </tr>\n  </thead>\n  <tbody>\n    <tr>\n      <th>0</th>\n      <td>Wayne Gretzky</td>\n      <td>1487</td>\n      <td>894.0</td>\n      <td>1963.0</td>\n      <td>2857.0</td>\n      <td>1.921</td>\n      <td>577.0</td>\n      <td>1979-1999</td>\n      <td>20.0</td>\n      <td>C</td>\n    </tr>\n    <tr>\n      <th>1</th>\n      <td>Jaromír Jágr</td>\n      <td>1733</td>\n      <td>766.0</td>\n      <td>1155.0</td>\n      <td>1921.0</td>\n      <td>1.108</td>\n      <td>1167.0</td>\n      <td>1990-2018</td>\n      <td>24.0</td>\n      <td>RW</td>\n    </tr>\n    <tr>\n      <th>2</th>\n      <td>Mark Messier</td>\n      <td>1756</td>\n      <td>694.0</td>\n      <td>1193.0</td>\n      <td>1887.0</td>\n      <td>1.075</td>\n      <td>1910.0</td>\n      <td>1979-2004</td>\n      <td>25.0</td>\n      <td>C</td>\n    </tr>\n    <tr>\n      <th>3</th>\n      <td>Gordie Howe</td>\n      <td>1767</td>\n      <td>801.0</td>\n      <td>1049.0</td>\n      <td>1850.0</td>\n      <td>1.047</td>\n      <td>1685.0</td>\n      <td>1946-1980</td>\n      <td>26.0</td>\n      <td>RW</td>\n    </tr>\n    <tr>\n      <th>4</th>\n      <td>Ron Francis</td>\n      <td>1731</td>\n      <td>549.0</td>\n      <td>1249.0</td>\n      <td>1798.0</td>\n      <td>1.039</td>\n      <td>979.0</td>\n      <td>1981-2004</td>\n      <td>23.0</td>\n      <td>C</td>\n    </tr>\n  </tbody>\n</table>\n</div>"
     },
     "metadata": {},
     "execution_count": 5
    }
   ],
   "source": [
    "combined_df = pd.concat(player_tables, ignore_index=True)\n",
    "combined_df = combined_df.dropna()\n",
    "adjusted_df = combined_df\n",
    "adjusted_df[['Name','POS']] = adjusted_df.Player.str.split(\"(\",expand=True) \n",
    "adjusted_df=adjusted_df.replace('\\)','',regex=True)\n",
    "##adjusted_df[['firstName','lastName']] = adjusted_df.Name.str.split(\" \",expand=True) \n",
    "adjusted_df = adjusted_df.drop('Player', 1)\n",
    "adjusted_df = adjusted_df[['Name', 'GP', 'G', 'A', 'TP', 'PPG', 'PIM', 'Period', 'Years', 'POS']]\n",
    "adjusted_df.head()"
   ]
  },
  {
   "cell_type": "code",
   "execution_count": 8,
   "metadata": {},
   "outputs": [
    {
     "output_type": "execute_result",
     "data": {
      "text/plain": [
       "             Name    GP      G       A      TP    PPG     PIM     Period  \\\n",
       "0  Wayne Gretzky   1487  894.0  1963.0  2857.0  1.921   577.0  1979-1999   \n",
       "1   Jaromir Jagr   1733  766.0  1155.0  1921.0  1.108  1167.0  1990-2018   \n",
       "2   Mark Messier   1756  694.0  1193.0  1887.0  1.075  1910.0  1979-2004   \n",
       "3    Gordie Howe   1767  801.0  1049.0  1850.0  1.047  1685.0  1946-1980   \n",
       "4    Ron Francis   1731  549.0  1249.0  1798.0  1.039   979.0  1981-2004   \n",
       "\n",
       "   Years POS  \n",
       "0   20.0   C  \n",
       "1   24.0  RW  \n",
       "2   25.0   C  \n",
       "3   26.0  RW  \n",
       "4   23.0   C  "
      ],
      "text/html": "<div>\n<style scoped>\n    .dataframe tbody tr th:only-of-type {\n        vertical-align: middle;\n    }\n\n    .dataframe tbody tr th {\n        vertical-align: top;\n    }\n\n    .dataframe thead th {\n        text-align: right;\n    }\n</style>\n<table border=\"1\" class=\"dataframe\">\n  <thead>\n    <tr style=\"text-align: right;\">\n      <th></th>\n      <th>Name</th>\n      <th>GP</th>\n      <th>G</th>\n      <th>A</th>\n      <th>TP</th>\n      <th>PPG</th>\n      <th>PIM</th>\n      <th>Period</th>\n      <th>Years</th>\n      <th>POS</th>\n    </tr>\n  </thead>\n  <tbody>\n    <tr>\n      <th>0</th>\n      <td>Wayne Gretzky</td>\n      <td>1487</td>\n      <td>894.0</td>\n      <td>1963.0</td>\n      <td>2857.0</td>\n      <td>1.921</td>\n      <td>577.0</td>\n      <td>1979-1999</td>\n      <td>20.0</td>\n      <td>C</td>\n    </tr>\n    <tr>\n      <th>1</th>\n      <td>Jaromir Jagr</td>\n      <td>1733</td>\n      <td>766.0</td>\n      <td>1155.0</td>\n      <td>1921.0</td>\n      <td>1.108</td>\n      <td>1167.0</td>\n      <td>1990-2018</td>\n      <td>24.0</td>\n      <td>RW</td>\n    </tr>\n    <tr>\n      <th>2</th>\n      <td>Mark Messier</td>\n      <td>1756</td>\n      <td>694.0</td>\n      <td>1193.0</td>\n      <td>1887.0</td>\n      <td>1.075</td>\n      <td>1910.0</td>\n      <td>1979-2004</td>\n      <td>25.0</td>\n      <td>C</td>\n    </tr>\n    <tr>\n      <th>3</th>\n      <td>Gordie Howe</td>\n      <td>1767</td>\n      <td>801.0</td>\n      <td>1049.0</td>\n      <td>1850.0</td>\n      <td>1.047</td>\n      <td>1685.0</td>\n      <td>1946-1980</td>\n      <td>26.0</td>\n      <td>RW</td>\n    </tr>\n    <tr>\n      <th>4</th>\n      <td>Ron Francis</td>\n      <td>1731</td>\n      <td>549.0</td>\n      <td>1249.0</td>\n      <td>1798.0</td>\n      <td>1.039</td>\n      <td>979.0</td>\n      <td>1981-2004</td>\n      <td>23.0</td>\n      <td>C</td>\n    </tr>\n  </tbody>\n</table>\n</div>"
     },
     "metadata": {},
     "execution_count": 8
    }
   ],
   "source": [
    "cols_to_check = ['Name']\n",
    "adjusted_df[cols_to_check] = adjusted_df[cols_to_check].replace({'á':'a'}, regex=True)\n",
    "adjusted_df[cols_to_check] = adjusted_df[cols_to_check].replace({'í':'i'}, regex=True)\n",
    "adjusted_df.head()"
   ]
  },
  {
   "cell_type": "code",
   "execution_count": 6,
   "metadata": {},
   "outputs": [
    {
     "output_type": "error",
     "ename": "ValueError",
     "evalue": "Columns must be same length as key",
     "traceback": [
      "\u001b[1;31m---------------------------------------------------------------------------\u001b[0m",
      "\u001b[1;31mValueError\u001b[0m                                Traceback (most recent call last)",
      "\u001b[1;32m<ipython-input-6-194ac70cb62f>\u001b[0m in \u001b[0;36m<module>\u001b[1;34m\u001b[0m\n\u001b[1;32m----> 1\u001b[1;33m \u001b[0madjusted_df\u001b[0m\u001b[1;33m[\u001b[0m\u001b[1;33m[\u001b[0m\u001b[1;34m'First'\u001b[0m\u001b[1;33m,\u001b[0m\u001b[1;34m'Last'\u001b[0m\u001b[1;33m]\u001b[0m\u001b[1;33m]\u001b[0m \u001b[1;33m=\u001b[0m \u001b[0madjusted_df\u001b[0m\u001b[1;33m.\u001b[0m\u001b[0mName\u001b[0m\u001b[1;33m.\u001b[0m\u001b[0mstr\u001b[0m\u001b[1;33m.\u001b[0m\u001b[0msplit\u001b[0m\u001b[1;33m(\u001b[0m\u001b[1;34m\" \"\u001b[0m\u001b[1;33m,\u001b[0m\u001b[0mexpand\u001b[0m\u001b[1;33m=\u001b[0m\u001b[1;32mTrue\u001b[0m\u001b[1;33m)\u001b[0m\u001b[1;33m\u001b[0m\u001b[1;33m\u001b[0m\u001b[0m\n\u001b[0m\u001b[0;32m      2\u001b[0m \u001b[0madjusted_df\u001b[0m\u001b[1;33m.\u001b[0m\u001b[0mhead\u001b[0m\u001b[1;33m(\u001b[0m\u001b[1;33m)\u001b[0m\u001b[1;33m\u001b[0m\u001b[1;33m\u001b[0m\u001b[0m\n",
      "\u001b[1;32mC:\\Users\\jeff lyng\\.conda\\envs\\bcs\\lib\\site-packages\\pandas\\core\\frame.py\u001b[0m in \u001b[0;36m__setitem__\u001b[1;34m(self, key, value)\u001b[0m\n\u001b[0;32m   2933\u001b[0m             \u001b[0mself\u001b[0m\u001b[1;33m.\u001b[0m\u001b[0m_setitem_frame\u001b[0m\u001b[1;33m(\u001b[0m\u001b[0mkey\u001b[0m\u001b[1;33m,\u001b[0m \u001b[0mvalue\u001b[0m\u001b[1;33m)\u001b[0m\u001b[1;33m\u001b[0m\u001b[1;33m\u001b[0m\u001b[0m\n\u001b[0;32m   2934\u001b[0m         \u001b[1;32melif\u001b[0m \u001b[0misinstance\u001b[0m\u001b[1;33m(\u001b[0m\u001b[0mkey\u001b[0m\u001b[1;33m,\u001b[0m \u001b[1;33m(\u001b[0m\u001b[0mSeries\u001b[0m\u001b[1;33m,\u001b[0m \u001b[0mnp\u001b[0m\u001b[1;33m.\u001b[0m\u001b[0mndarray\u001b[0m\u001b[1;33m,\u001b[0m \u001b[0mlist\u001b[0m\u001b[1;33m,\u001b[0m \u001b[0mIndex\u001b[0m\u001b[1;33m)\u001b[0m\u001b[1;33m)\u001b[0m\u001b[1;33m:\u001b[0m\u001b[1;33m\u001b[0m\u001b[1;33m\u001b[0m\u001b[0m\n\u001b[1;32m-> 2935\u001b[1;33m             \u001b[0mself\u001b[0m\u001b[1;33m.\u001b[0m\u001b[0m_setitem_array\u001b[0m\u001b[1;33m(\u001b[0m\u001b[0mkey\u001b[0m\u001b[1;33m,\u001b[0m \u001b[0mvalue\u001b[0m\u001b[1;33m)\u001b[0m\u001b[1;33m\u001b[0m\u001b[1;33m\u001b[0m\u001b[0m\n\u001b[0m\u001b[0;32m   2936\u001b[0m         \u001b[1;32melse\u001b[0m\u001b[1;33m:\u001b[0m\u001b[1;33m\u001b[0m\u001b[1;33m\u001b[0m\u001b[0m\n\u001b[0;32m   2937\u001b[0m             \u001b[1;31m# set column\u001b[0m\u001b[1;33m\u001b[0m\u001b[1;33m\u001b[0m\u001b[1;33m\u001b[0m\u001b[0m\n",
      "\u001b[1;32mC:\\Users\\jeff lyng\\.conda\\envs\\bcs\\lib\\site-packages\\pandas\\core\\frame.py\u001b[0m in \u001b[0;36m_setitem_array\u001b[1;34m(self, key, value)\u001b[0m\n\u001b[0;32m   2959\u001b[0m             \u001b[1;32mif\u001b[0m \u001b[0misinstance\u001b[0m\u001b[1;33m(\u001b[0m\u001b[0mvalue\u001b[0m\u001b[1;33m,\u001b[0m \u001b[0mDataFrame\u001b[0m\u001b[1;33m)\u001b[0m\u001b[1;33m:\u001b[0m\u001b[1;33m\u001b[0m\u001b[1;33m\u001b[0m\u001b[0m\n\u001b[0;32m   2960\u001b[0m                 \u001b[1;32mif\u001b[0m \u001b[0mlen\u001b[0m\u001b[1;33m(\u001b[0m\u001b[0mvalue\u001b[0m\u001b[1;33m.\u001b[0m\u001b[0mcolumns\u001b[0m\u001b[1;33m)\u001b[0m \u001b[1;33m!=\u001b[0m \u001b[0mlen\u001b[0m\u001b[1;33m(\u001b[0m\u001b[0mkey\u001b[0m\u001b[1;33m)\u001b[0m\u001b[1;33m:\u001b[0m\u001b[1;33m\u001b[0m\u001b[1;33m\u001b[0m\u001b[0m\n\u001b[1;32m-> 2961\u001b[1;33m                     \u001b[1;32mraise\u001b[0m \u001b[0mValueError\u001b[0m\u001b[1;33m(\u001b[0m\u001b[1;34m\"Columns must be same length as key\"\u001b[0m\u001b[1;33m)\u001b[0m\u001b[1;33m\u001b[0m\u001b[1;33m\u001b[0m\u001b[0m\n\u001b[0m\u001b[0;32m   2962\u001b[0m                 \u001b[1;32mfor\u001b[0m \u001b[0mk1\u001b[0m\u001b[1;33m,\u001b[0m \u001b[0mk2\u001b[0m \u001b[1;32min\u001b[0m \u001b[0mzip\u001b[0m\u001b[1;33m(\u001b[0m\u001b[0mkey\u001b[0m\u001b[1;33m,\u001b[0m \u001b[0mvalue\u001b[0m\u001b[1;33m.\u001b[0m\u001b[0mcolumns\u001b[0m\u001b[1;33m)\u001b[0m\u001b[1;33m:\u001b[0m\u001b[1;33m\u001b[0m\u001b[1;33m\u001b[0m\u001b[0m\n\u001b[0;32m   2963\u001b[0m                     \u001b[0mself\u001b[0m\u001b[1;33m[\u001b[0m\u001b[0mk1\u001b[0m\u001b[1;33m]\u001b[0m \u001b[1;33m=\u001b[0m \u001b[0mvalue\u001b[0m\u001b[1;33m[\u001b[0m\u001b[0mk2\u001b[0m\u001b[1;33m]\u001b[0m\u001b[1;33m\u001b[0m\u001b[1;33m\u001b[0m\u001b[0m\n",
      "\u001b[1;31mValueError\u001b[0m: Columns must be same length as key"
     ]
    }
   ],
   "source": [
    "adjusted_df[['First','Last']] = adjusted_df.Name.str.split(\" \",expand=True)  \n",
    "adjusted_df.head()"
   ]
  },
  {
   "cell_type": "code",
   "execution_count": 27,
   "metadata": {},
   "outputs": [],
   "source": [
    "combined_df.to_csv(\"career_stats.csv\", index=False, header=True, encoding='utf-8-sig')\n",
    "\n"
   ]
  },
  {
   "cell_type": "code",
   "execution_count": 29,
   "metadata": {},
   "outputs": [],
   "source": [
    "adjusted_df.to_csv(\"Output/career_stats_adj.csv\", index=False, header=True, encoding='utf-8-sig')"
   ]
  },
  {
   "cell_type": "code",
   "execution_count": null,
   "metadata": {},
   "outputs": [],
   "source": []
  }
 ]
}